{
 "cells": [
  {
   "cell_type": "code",
   "execution_count": 30,
   "metadata": {
    "ExecuteTime": {
     "end_time": "2018-05-12T17:41:38.804000Z",
     "start_time": "2018-05-12T17:41:38.269000Z"
    }
   },
   "outputs": [
    {
     "name": "stdout",
     "output_type": "stream",
     "text": [
      "The autoreload extension is already loaded. To reload it, use:\n",
      "  %reload_ext autoreload\n"
     ]
    }
   ],
   "source": [
    "# Usual\n",
    "import os\n",
    "import matplotlib.pyplot as plt\n",
    "import pandas as pd\n",
    "import numpy as np\n",
    "import sys\n",
    "import time\n",
    "from tqdm import tqdm\n",
    "\n",
    "# Autoreload\n",
    "%load_ext autoreload\n",
    "%autoreload 2\n",
    "%reload_ext autoreload\n",
    "%matplotlib inline"
   ]
  },
  {
   "cell_type": "code",
   "execution_count": 31,
   "metadata": {
    "ExecuteTime": {
     "end_time": "2018-05-12T17:41:39.183000Z",
     "start_time": "2018-05-12T17:41:38.806000Z"
    }
   },
   "outputs": [],
   "source": [
    "import sys\n",
    "sys.path.append(\"app\")\n",
    "import sephora"
   ]
  },
  {
   "cell_type": "markdown",
   "metadata": {},
   "source": [
    "# Bloc promo"
   ]
  },
  {
   "cell_type": "markdown",
   "metadata": {},
   "source": [
    "## Test on France"
   ]
  },
  {
   "cell_type": "code",
   "execution_count": 53,
   "metadata": {
    "ExecuteTime": {
     "end_time": "2018-05-12T17:44:35.284000Z",
     "start_time": "2018-05-12T17:44:34.171000Z"
    }
   },
   "outputs": [],
   "source": [
    "sepho = sephora.SephoraScrapper(\"cz\")"
   ]
  },
  {
   "cell_type": "code",
   "execution_count": 54,
   "metadata": {
    "ExecuteTime": {
     "end_time": "2018-05-12T17:44:35.694000Z",
     "start_time": "2018-05-12T17:44:35.286000Z"
    }
   },
   "outputs": [],
   "source": [
    "blocks = sepho.get_promo_blocks()"
   ]
  },
  {
   "cell_type": "code",
   "execution_count": 55,
   "metadata": {
    "ExecuteTime": {
     "end_time": "2018-05-12T17:44:36.199000Z",
     "start_time": "2018-05-12T17:44:35.696000Z"
    }
   },
   "outputs": [
    {
     "data": {
      "text/plain": [
       "[{'img': 'http://www.sephora.cz//media/catalog_ProductCatalog/m18181122_P3212006_princ_hero.jpg',\n",
       "  'text': ['NÁŠ TIP',\n",
       "   'NOVINKA',\n",
       "   'MAKE UP FOR EVER',\n",
       "   'Star Lit Eye Shadow Palette Paletka očních stínů',\n",
       "   '1\\xa0350Kč',\n",
       "   'Exkluzivně']},\n",
       " {'img': 'http://www.sephora.cz//media/catalog_ProductCatalog/m19050805_P3337016_princ_hero.jpg',\n",
       "  'text': ['NOVINKA',\n",
       "   'NOVINKA',\n",
       "   'DKNY',\n",
       "   'Flower Pop Collection Purple Toaletní voda',\n",
       "   '1\\xa0620Kč']},\n",
       " {'img': 'http://www.sephora.cz//media/catalog_ProductCatalog/m19071577_P3340001_princ_hero.jpg',\n",
       "  'text': ['NOVINKA',\n",
       "   'NOVINKA',\n",
       "   'GLAMGLOW',\n",
       "   'My Little Pony Gravitymud #GLITTERMASK Pleťová maska',\n",
       "   '1\\xa0450Kč',\n",
       "   'Limitováno']},\n",
       " {'img': 'http://www.sephora.cz//media/catalog_ProductCatalog/m18662554_P3289027_princ_hero.jpg',\n",
       "  'text': ['NOVINKA ',\n",
       "   'NOVINKA',\n",
       "   'KOCOSTAR',\n",
       "   'Camo Belly Mask Maska na břicho',\n",
       "   '190Kč',\n",
       "   'Exkluzivně']},\n",
       " {'img': 'http://www.sephora.cz//media/catalog_ProductCatalog/m18630582_P3275011_princ_hero.jpg',\n",
       "  'text': ['NOVINKA',\n",
       "   'NOVINKA',\n",
       "   'GIVENCHY',\n",
       "   'Gentleman Parfémová voda',\n",
       "   'Od 2\\xa0110Kč']},\n",
       " {'img': 'http://www.sephora.cz//media/catalog_ProductCatalog/m18471097_P3266011_princ_hero.jpg',\n",
       "  'text': ['NÁŠ TIP',\n",
       "   'NOVINKA',\n",
       "   'BUMBLE AND BUMBLE ',\n",
       "   'Bb. Color Gloss Barevný pečující gel',\n",
       "   '810Kč',\n",
       "   'K dispozici v 5 odstínech']},\n",
       " {'img': 'http://www.sephora.cz//media/catalog_ProductCatalog/m18651061_P3288007_princ_hero.jpg',\n",
       "  'text': ['NÁŠ TIP',\n",
       "   'NOVINKA',\n",
       "   'SEPHORA COLLECTION',\n",
       "   'Colourful Kosmetická Taštička',\n",
       "   'Od 250Kč']}]"
      ]
     },
     "execution_count": 55,
     "metadata": {},
     "output_type": "execute_result"
    }
   ],
   "source": [
    "blocks"
   ]
  },
  {
   "cell_type": "code",
   "execution_count": 6,
   "metadata": {
    "ExecuteTime": {
     "end_time": "2018-05-12T16:30:02.366000Z",
     "start_time": "2018-05-12T16:30:02.003000Z"
    }
   },
   "outputs": [],
   "source": [
    "b = blocks[0]"
   ]
  },
  {
   "cell_type": "code",
   "execution_count": 10,
   "metadata": {
    "ExecuteTime": {
     "end_time": "2018-05-12T16:30:30.548000Z",
     "start_time": "2018-05-12T16:30:30.286000Z"
    }
   },
   "outputs": [
    {
     "data": {
      "text/plain": [
       "'/media/catalog_ProductCatalog/m65678_P38211_princ_hero.jpg'"
      ]
     },
     "execution_count": 10,
     "metadata": {},
     "output_type": "execute_result"
    }
   ],
   "source": [
    "b.find(\"img\").attrs[\"src\"]"
   ]
  },
  {
   "cell_type": "code",
   "execution_count": 19,
   "metadata": {
    "ExecuteTime": {
     "end_time": "2018-05-12T16:34:20.148000Z",
     "start_time": "2018-05-12T16:34:19.929000Z"
    }
   },
   "outputs": [
    {
     "data": {
      "text/plain": [
       "'\\nA LA UNE\\n\\n\\n\\nESTÉE LAUDER\\n\\nDouble Wear Teint longue tenue intransférable SPF 10\\n\\r\\n\\t\\t\\t\\t\\t\\t50,50€\\n\\r\\n\\t\\t\\t\\t[Existe en 35 teintes]\\n'"
      ]
     },
     "execution_count": 19,
     "metadata": {},
     "output_type": "execute_result"
    }
   ],
   "source": [
    "b.text"
   ]
  },
  {
   "cell_type": "code",
   "execution_count": 25,
   "metadata": {
    "ExecuteTime": {
     "end_time": "2018-05-12T16:35:17.981000Z",
     "start_time": "2018-05-12T16:35:17.666000Z"
    }
   },
   "outputs": [],
   "source": [
    "x = b.text.replace(\"\\t\",\"\").replace(\"\\n\\n\\n\",\"\\n\").replace(\"\\n\\n\",\"\\n\").replace(\"\\t\",\"\").replace(\"\\n\\r\\n\",\"\\n\").strip().split(\"\\n\")"
   ]
  },
  {
   "cell_type": "code",
   "execution_count": 27,
   "metadata": {
    "ExecuteTime": {
     "end_time": "2018-05-12T16:35:27.479000Z",
     "start_time": "2018-05-12T16:35:27.148000Z"
    }
   },
   "outputs": [
    {
     "data": {
      "text/plain": [
       "['A LA UNE',\n",
       " 'ESTÉE LAUDER',\n",
       " 'Double Wear Teint longue tenue intransférable SPF 10',\n",
       " '50,50€',\n",
       " '[Existe en 35 teintes]']"
      ]
     },
     "execution_count": 27,
     "metadata": {},
     "output_type": "execute_result"
    }
   ],
   "source": [
    "x.split(\"\\n\")"
   ]
  },
  {
   "cell_type": "code",
   "execution_count": 8,
   "metadata": {
    "ExecuteTime": {
     "end_time": "2018-05-01T13:26:36.671000Z",
     "start_time": "2018-05-01T13:26:36.662000Z"
    }
   },
   "outputs": [
    {
     "data": {
      "text/plain": [
       "<div class=\"bloc_promo_ss_menu\">\n",
       "<a href=\"/Maquillage/Levres/Rouge-a-Levres/Lip-Color-Rouge-a-levres/P3293005\"><h4 class=\"link-group-title\">AVANT-PREMIÈRE</h4>\n",
       "</a><a href=\"/Maquillage/Levres/Rouge-a-Levres/Lip-Color-Rouge-a-levres/P3293005\"><div class=\"conteneur_img_promo_ss_menu\">\n",
       "<img alt=\"Lip Color - Rouge à lèvres\" class=\"img_promo_ss_menu\" src=\"/media/catalog_ProductCatalog/m18721371_P3293005_princ_hero.jpg\"/></div>\n",
       "</a><div class=\"marque_promo_ss_menu\">\n",
       "<p class=\"flag-new\">NOUVEAU</p>\n",
       "<a href=\"/Maquillage/Levres/Rouge-a-Levres/Lip-Color-Rouge-a-levres/P3293005\">TOM FORD</a></div>\n",
       "<div class=\"desc_promo_ss_menu\">\n",
       "<a href=\"/Maquillage/Levres/Rouge-a-Levres/Lip-Color-Rouge-a-levres/P3293005\">Lip Color<br/> Rouge à lèvres</a></div>\n",
       "<p class=\"prix\">\n",
       "\t\t\t\t\t\t54,00€</p>\n",
       "<p class=\"shades\">\n",
       "\t\t\t\t[Existe en 50 teintes]</p>\n",
       "</div>"
      ]
     },
     "execution_count": 8,
     "metadata": {},
     "output_type": "execute_result"
    }
   ],
   "source": [
    "promo_blocks[0]"
   ]
  },
  {
   "cell_type": "markdown",
   "metadata": {},
   "source": [
    "## Test on spain"
   ]
  },
  {
   "cell_type": "code",
   "execution_count": 10,
   "metadata": {
    "ExecuteTime": {
     "end_time": "2018-05-01T13:29:01.454000Z",
     "start_time": "2018-05-01T13:29:00.904000Z"
    }
   },
   "outputs": [],
   "source": [
    "sepho_es = scrapping(\"http://www.sephora.es/\")"
   ]
  },
  {
   "cell_type": "code",
   "execution_count": 14,
   "metadata": {
    "ExecuteTime": {
     "end_time": "2018-05-01T13:29:41.910000Z",
     "start_time": "2018-05-01T13:29:41.860000Z"
    }
   },
   "outputs": [],
   "source": [
    "promo_blocks = sepho_es.find_all(class_ = \"bloc_promo_ss_menu\")"
   ]
  },
  {
   "cell_type": "code",
   "execution_count": 15,
   "metadata": {
    "ExecuteTime": {
     "end_time": "2018-05-01T13:29:42.453000Z",
     "start_time": "2018-05-01T13:29:42.443000Z"
    }
   },
   "outputs": [
    {
     "data": {
      "text/plain": [
       "8"
      ]
     },
     "execution_count": 15,
     "metadata": {},
     "output_type": "execute_result"
    }
   ],
   "source": [
    "len(promo_blocks)"
   ]
  },
  {
   "cell_type": "code",
   "execution_count": 16,
   "metadata": {
    "ExecuteTime": {
     "end_time": "2018-05-01T13:29:43.071000Z",
     "start_time": "2018-05-01T13:29:43.063000Z"
    }
   },
   "outputs": [
    {
     "data": {
      "text/plain": [
       "<div class=\"bloc_promo_ss_menu\">\n",
       "<a href=\"/Maquillaje/Kits-de-maquillaje/Kit-de-unas/Cofre-Color-Hit-Lacas-de-unas-y-Top-Coat/P3295003\"><h4 class=\"link-group-title\">EDICIÓN LIMITADA</h4>\n",
       "</a><a href=\"/Maquillaje/Kits-de-maquillaje/Kit-de-unas/Cofre-Color-Hit-Lacas-de-unas-y-Top-Coat/P3295003\"><div class=\"conteneur_img_promo_ss_menu\">\n",
       "<img alt=\"Cofre Color Hit - Lacas de uñas y Top Coat\" class=\"img_promo_ss_menu\" src=\"/media/catalog_ProductCatalog/m18723880_P3295003_princ_hero.jpg\"/></div>\n",
       "</a><div class=\"marque_promo_ss_menu\">\n",
       "<p class=\"flag-new\">Nuevo</p>\n",
       "<a href=\"/Maquillaje/Kits-de-maquillaje/Kit-de-unas/Cofre-Color-Hit-Lacas-de-unas-y-Top-Coat/P3295003\">SEPHORA COLLECTION</a></div>\n",
       "<div class=\"desc_promo_ss_menu\">\n",
       "<a href=\"/Maquillaje/Kits-de-maquillaje/Kit-de-unas/Cofre-Color-Hit-Lacas-de-unas-y-Top-Coat/P3295003\">Cofre Color Hit<br/> Lacas de uñas y Top Coat</a></div>\n",
       "<p class=\"prix\">\n",
       "\t\t\t\t\t\t23,40€</p>\n",
       "<p class=\"greytext_underproduct\">\n",
       "\t\t\tEdición limitada - Exclusivo Online</p>\n",
       "</div>"
      ]
     },
     "execution_count": 16,
     "metadata": {},
     "output_type": "execute_result"
    }
   ],
   "source": [
    "promo_blocks[0]"
   ]
  },
  {
   "cell_type": "markdown",
   "metadata": {},
   "source": [
    "## Screen capture"
   ]
  },
  {
   "cell_type": "code",
   "execution_count": 17,
   "metadata": {
    "ExecuteTime": {
     "end_time": "2018-05-01T13:30:08.950000Z",
     "start_time": "2018-05-01T13:30:08.944000Z"
    }
   },
   "outputs": [],
   "source": [
    "from ekimetrics.web_scrapping.selenium import SeleniumRobot"
   ]
  },
  {
   "cell_type": "code",
   "execution_count": 39,
   "metadata": {
    "ExecuteTime": {
     "end_time": "2018-05-01T13:40:45.174000Z",
     "start_time": "2018-05-01T13:40:43.431000Z"
    }
   },
   "outputs": [
    {
     "name": "stdout",
     "output_type": "stream",
     "text": [
      ">> Connecting chrome Driver\n"
     ]
    }
   ],
   "source": [
    "robot = SeleniumRobot()"
   ]
  },
  {
   "cell_type": "code",
   "execution_count": 40,
   "metadata": {
    "ExecuteTime": {
     "end_time": "2018-05-01T13:40:52.023000Z",
     "start_time": "2018-05-01T13:40:45.176000Z"
    }
   },
   "outputs": [],
   "source": [
    "robot.connect(\"http://www.sephora.fr/\")"
   ]
  },
  {
   "cell_type": "code",
   "execution_count": 28,
   "metadata": {
    "ExecuteTime": {
     "end_time": "2018-05-01T13:34:31.825000Z",
     "start_time": "2018-05-01T13:34:31.785000Z"
    }
   },
   "outputs": [],
   "source": [
    "li = robot.driver.find_element_by_partial_link_text(\"MAQUILLAGE\")"
   ]
  },
  {
   "cell_type": "code",
   "execution_count": 29,
   "metadata": {
    "ExecuteTime": {
     "end_time": "2018-05-01T13:35:37.027000Z",
     "start_time": "2018-05-01T13:35:37.024000Z"
    }
   },
   "outputs": [],
   "source": [
    "from selenium.webdriver.common.action_chains import ActionChains"
   ]
  },
  {
   "cell_type": "code",
   "execution_count": 31,
   "metadata": {
    "ExecuteTime": {
     "end_time": "2018-05-01T13:36:05.908000Z",
     "start_time": "2018-05-01T13:36:05.817000Z"
    }
   },
   "outputs": [],
   "source": [
    "hover = ActionChains(robot.driver).move_to_element(li)\n",
    "hover.perform()"
   ]
  },
  {
   "cell_type": "code",
   "execution_count": 32,
   "metadata": {
    "ExecuteTime": {
     "end_time": "2018-05-01T13:36:21.112000Z",
     "start_time": "2018-05-01T13:36:20.698000Z"
    }
   },
   "outputs": [
    {
     "data": {
      "text/plain": [
       "True"
      ]
     },
     "execution_count": 32,
     "metadata": {},
     "output_type": "execute_result"
    }
   ],
   "source": [
    "robot.driver.get_screenshot_as_file(\"maquillage.png\")"
   ]
  },
  {
   "cell_type": "code",
   "execution_count": 41,
   "metadata": {
    "ExecuteTime": {
     "end_time": "2018-05-01T13:41:06.102000Z",
     "start_time": "2018-05-01T13:41:06.071000Z"
    }
   },
   "outputs": [],
   "source": [
    "menu = robot.driver.find_element_by_id(\"menu_list\")"
   ]
  },
  {
   "cell_type": "code",
   "execution_count": 42,
   "metadata": {
    "ExecuteTime": {
     "end_time": "2018-05-01T13:41:06.308000Z",
     "start_time": "2018-05-01T13:41:06.280000Z"
    }
   },
   "outputs": [],
   "source": [
    "btn = menu.find_elements_by_class_name(\"btn_menu\")"
   ]
  },
  {
   "cell_type": "code",
   "execution_count": 38,
   "metadata": {
    "ExecuteTime": {
     "end_time": "2018-05-01T13:40:26.619000Z",
     "start_time": "2018-05-01T13:40:26.613000Z"
    }
   },
   "outputs": [
    {
     "data": {
      "text/plain": [
       "10"
      ]
     },
     "execution_count": 38,
     "metadata": {},
     "output_type": "execute_result"
    }
   ],
   "source": [
    "len(btn)"
   ]
  },
  {
   "cell_type": "code",
   "execution_count": 46,
   "metadata": {
    "ExecuteTime": {
     "end_time": "2018-05-01T13:42:15.354000Z",
     "start_time": "2018-05-01T13:42:15.352000Z"
    }
   },
   "outputs": [],
   "source": [
    "x = btn[0]"
   ]
  },
  {
   "cell_type": "code",
   "execution_count": 49,
   "metadata": {
    "ExecuteTime": {
     "end_time": "2018-05-01T13:43:03.339000Z",
     "start_time": "2018-05-01T13:43:03.231000Z"
    }
   },
   "outputs": [
    {
     "data": {
      "text/plain": [
       "'MAQUILLAGE'"
      ]
     },
     "execution_count": 49,
     "metadata": {},
     "output_type": "execute_result"
    }
   ],
   "source": [
    "x.text"
   ]
  },
  {
   "cell_type": "code",
   "execution_count": 43,
   "metadata": {
    "ExecuteTime": {
     "end_time": "2018-05-01T13:41:42.634000Z",
     "start_time": "2018-05-01T13:41:42.630000Z"
    }
   },
   "outputs": [],
   "source": [
    "import time\n",
    "from tqdm import tqdm_notebook"
   ]
  },
  {
   "cell_type": "code",
   "execution_count": 52,
   "metadata": {
    "ExecuteTime": {
     "end_time": "2018-05-01T13:49:01.979000Z",
     "start_time": "2018-05-01T13:48:36.231000Z"
    }
   },
   "outputs": [
    {
     "data": {
      "application/vnd.jupyter.widget-view+json": {
       "model_id": "31c596005d384ceeb70f34401397aa20",
       "version_major": 2,
       "version_minor": 0
      },
      "text/plain": [
       "A Jupyter Widget"
      ]
     },
     "metadata": {},
     "output_type": "display_data"
    },
    {
     "name": "stdout",
     "output_type": "stream",
     "text": [
      "\n"
     ]
    }
   ],
   "source": [
    "for i,b in enumerate(tqdm_notebook(btn)):\n",
    "    hover = ActionChains(robot.driver).move_to_element(b)\n",
    "    hover.perform()\n",
    "    time.sleep(2)\n",
    "    text = b.text\n",
    "    robot.driver.get_screenshot_as_file(f\"{i}.png\")"
   ]
  },
  {
   "cell_type": "markdown",
   "metadata": {},
   "source": [
    "# Carrousel"
   ]
  },
  {
   "cell_type": "code",
   "execution_count": 99,
   "metadata": {
    "ExecuteTime": {
     "end_time": "2018-05-01T14:11:38.116000Z",
     "start_time": "2018-05-01T14:11:30.178000Z"
    }
   },
   "outputs": [
    {
     "name": "stdout",
     "output_type": "stream",
     "text": [
      ">> Connecting chrome Driver\n"
     ]
    }
   ],
   "source": [
    "robot = SeleniumRobot()\n",
    "robot.connect(\"https://sephora.fr\")"
   ]
  },
  {
   "cell_type": "code",
   "execution_count": 100,
   "metadata": {
    "ExecuteTime": {
     "end_time": "2018-05-01T14:11:55.856000Z",
     "start_time": "2018-05-01T14:11:55.802000Z"
    }
   },
   "outputs": [],
   "source": [
    "imgs = robot.driver.find_elements_by_class_name(\"conteneurImage\")"
   ]
  },
  {
   "cell_type": "code",
   "execution_count": 102,
   "metadata": {
    "ExecuteTime": {
     "end_time": "2018-05-01T14:12:05.576000Z",
     "start_time": "2018-05-01T14:12:05.569000Z"
    },
    "scrolled": true
   },
   "outputs": [],
   "source": [
    "img = imgs[0]"
   ]
  },
  {
   "cell_type": "code",
   "execution_count": 107,
   "metadata": {
    "ExecuteTime": {
     "end_time": "2018-05-01T14:13:34.101000Z",
     "start_time": "2018-05-01T14:13:34.098000Z"
    }
   },
   "outputs": [],
   "source": [
    "import bs4 as bs"
   ]
  },
  {
   "cell_type": "code",
   "execution_count": 112,
   "metadata": {
    "ExecuteTime": {
     "end_time": "2018-05-01T14:14:44.619000Z",
     "start_time": "2018-05-01T14:14:44.593000Z"
    }
   },
   "outputs": [
    {
     "data": {
      "text/plain": [
       "'https://www.sephora.fr/media/catalog_ProductCatalog/m19071567_1804_dsk_fr_window_monobrand_filorga_03.jpg'"
      ]
     },
     "execution_count": 112,
     "metadata": {},
     "output_type": "execute_result"
    }
   ],
   "source": [
    "img_src = bs.BeautifulSoup(img.get_attribute('innerHTML'),\"lxml\").find(\"img\")[\"src\"]\n",
    "img_src = \"https://www.sephora.fr\" + img_src\n",
    "img_src"
   ]
  },
  {
   "cell_type": "code",
   "execution_count": 113,
   "metadata": {
    "ExecuteTime": {
     "end_time": "2018-05-01T14:15:09.183000Z",
     "start_time": "2018-05-01T14:15:09.166000Z"
    }
   },
   "outputs": [
    {
     "data": {
      "text/html": [
       "<img src='https://www.sephora.fr/media/catalog_ProductCatalog/m19071567_1804_dsk_fr_window_monobrand_filorga_03.jpg'/>"
      ],
      "text/plain": [
       "<IPython.core.display.HTML object>"
      ]
     },
     "metadata": {},
     "output_type": "display_data"
    }
   ],
   "source": [
    "%%html\n",
    "<img src='https://www.sephora.fr/media/catalog_ProductCatalog/m19071567_1804_dsk_fr_window_monobrand_filorga_03.jpg'/>"
   ]
  },
  {
   "cell_type": "code",
   "execution_count": null,
   "metadata": {},
   "outputs": [],
   "source": []
  }
 ],
 "metadata": {
  "kernelspec": {
   "display_name": "Python 3",
   "language": "python",
   "name": "python3"
  },
  "language_info": {
   "codemirror_mode": {
    "name": "ipython",
    "version": 3
   },
   "file_extension": ".py",
   "mimetype": "text/x-python",
   "name": "python",
   "nbconvert_exporter": "python",
   "pygments_lexer": "ipython3",
   "version": "3.6.3"
  },
  "toc": {
   "colors": {
    "hover_highlight": "#DAA520",
    "running_highlight": "#FF0000",
    "selected_highlight": "#FFD700"
   },
   "moveMenuLeft": true,
   "nav_menu": {
    "height": "118px",
    "width": "252px"
   },
   "navigate_menu": true,
   "number_sections": true,
   "sideBar": true,
   "threshold": 4,
   "toc_cell": false,
   "toc_section_display": "block",
   "toc_window_display": true
  }
 },
 "nbformat": 4,
 "nbformat_minor": 2
}
